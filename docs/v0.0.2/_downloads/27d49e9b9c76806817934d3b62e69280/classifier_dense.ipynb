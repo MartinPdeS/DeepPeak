{
  "cells": [
    {
      "cell_type": "markdown",
      "metadata": {},
      "source": [
        "\n# DenseNet Classifier: Detecting Regions of Interest in Synthetic Signals\n\nThis example demonstrates how to use DeepPeak's DenseNet classifier to identify\nregions of interest (ROIs) in synthetic 1D signals containing Gaussian peaks.\n\nWe will:\n- Generate a dataset of noisy signals with random Gaussian peaks\n- Build and train a DenseNet classifier to detect ROIs\n- Visualize the training process and model predictions\n\n<div class=\"alert alert-info\"><h4>Note</h4><p>This example is fully reproducible and suitable for Sphinx-Gallery documentation.</p></div>\n"
      ]
    },
    {
      "cell_type": "markdown",
      "metadata": {},
      "source": [
        "## Imports and reproducibility\n\n"
      ]
    },
    {
      "cell_type": "code",
      "execution_count": null,
      "metadata": {
        "collapsed": false
      },
      "outputs": [],
      "source": [
        "import numpy as np\n\nfrom DeepPeak.machine_learning.classifier import DenseNet\nfrom DeepPeak.signals import Kernel, SignalDatasetGenerator\n\nnp.random.seed(42)"
      ]
    },
    {
      "cell_type": "markdown",
      "metadata": {},
      "source": [
        "## Generate synthetic dataset\n\n"
      ]
    },
    {
      "cell_type": "code",
      "execution_count": null,
      "metadata": {
        "collapsed": false
      },
      "outputs": [],
      "source": [
        "NUM_PEAKS = 3\nSEQUENCE_LENGTH = 200\n\ngenerator = SignalDatasetGenerator(n_samples=100, sequence_length=SEQUENCE_LENGTH)\n\ndataset = generator.generate(\n    signal_type=Kernel.GAUSSIAN,\n    n_peaks=(1, NUM_PEAKS),\n    amplitude=(1, 20),\n    position=(0.1, 0.9),\n    width=(0.03, 0.05),\n    noise_std=0.1,\n    categorical_peak_count=False,\n    compute_region_of_interest=True,\n)"
      ]
    },
    {
      "cell_type": "markdown",
      "metadata": {},
      "source": [
        "## Visualize a few example signals and their regions of interest\n\n"
      ]
    },
    {
      "cell_type": "code",
      "execution_count": null,
      "metadata": {
        "collapsed": false
      },
      "outputs": [],
      "source": [
        "dataset.plot(number_of_samples=3)"
      ]
    },
    {
      "cell_type": "markdown",
      "metadata": {},
      "source": [
        "## Build and summarize the DenseNet classifier\n\n"
      ]
    },
    {
      "cell_type": "code",
      "execution_count": null,
      "metadata": {
        "collapsed": false
      },
      "outputs": [],
      "source": [
        "dense_net = DenseNet(\n    sequence_length=SEQUENCE_LENGTH,\n    filters=(32, 64, 128),\n    dilation_rates=(1, 2, 4),\n    kernel_size=3,\n    optimizer=\"adam\",\n    loss=\"binary_crossentropy\",\n    metrics=[\"accuracy\"],\n)\ndense_net.build()\ndense_net.summary()"
      ]
    },
    {
      "cell_type": "markdown",
      "metadata": {},
      "source": [
        "## Train the classifier\n\n"
      ]
    },
    {
      "cell_type": "code",
      "execution_count": null,
      "metadata": {
        "collapsed": false
      },
      "outputs": [],
      "source": [
        "history = dense_net.fit(\n    dataset.signals,\n    dataset.region_of_interest,\n    validation_split=0.2,\n    epochs=20,\n    batch_size=64,\n)"
      ]
    },
    {
      "cell_type": "markdown",
      "metadata": {},
      "source": [
        "## Plot training history\n\n"
      ]
    },
    {
      "cell_type": "code",
      "execution_count": null,
      "metadata": {
        "collapsed": false
      },
      "outputs": [],
      "source": [
        "dense_net.plot_model_history()"
      ]
    },
    {
      "cell_type": "markdown",
      "metadata": {},
      "source": [
        "## Predict and visualize on a test signal\n\n"
      ]
    },
    {
      "cell_type": "code",
      "execution_count": null,
      "metadata": {
        "collapsed": false
      },
      "outputs": [],
      "source": [
        "dense_net.plot_prediction(signal=dataset.signals[0:1, :], threshold=0.4)"
      ]
    }
  ],
  "metadata": {
    "kernelspec": {
      "display_name": "Python 3",
      "language": "python",
      "name": "python3"
    },
    "language_info": {
      "codemirror_mode": {
        "name": "ipython",
        "version": 3
      },
      "file_extension": ".py",
      "mimetype": "text/x-python",
      "name": "python",
      "nbconvert_exporter": "python",
      "pygments_lexer": "ipython3",
      "version": "3.11.13"
    }
  },
  "nbformat": 4,
  "nbformat_minor": 0
}