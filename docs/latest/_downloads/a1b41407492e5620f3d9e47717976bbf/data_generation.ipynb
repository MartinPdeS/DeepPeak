{
  "cells": [
    {
      "cell_type": "markdown",
      "metadata": {},
      "source": [
        "\n# Generating and Visualizing Signal Data\n\nThis example demonstrates how to:\n  1. Generate synthetic signals with up to 3 Gaussian pulses.\n  2. Compute a Region of Interest (ROI) mask based on pulse positions.\n  3. Visualize signals with peak positions, amplitudes, and the ROI mask.\n\nWe use:\n  - ``generate_signal_dataset`` to create the signals.\n  - ``compute_rois_from_signals`` to generate the ROI mask.\n  - ``SignalPlotter`` to visualize the results.\n"
      ]
    },
    {
      "cell_type": "markdown",
      "metadata": {},
      "source": [
        "## Imports\n\n"
      ]
    },
    {
      "cell_type": "code",
      "execution_count": null,
      "metadata": {
        "collapsed": false
      },
      "outputs": [],
      "source": [
        "from DeepPeak.signals import Kernel, SignalDatasetGenerator"
      ]
    },
    {
      "cell_type": "markdown",
      "metadata": {},
      "source": [
        "## Generate Synthetic Signal Dataset\n\nWe generate a dataset with `NUM_PEAKS` Gaussian pulses per signal.\nThe peak amplitudes, positions, and widths are randomly chosen within\nspecified ranges.\n\n"
      ]
    },
    {
      "cell_type": "code",
      "execution_count": null,
      "metadata": {
        "collapsed": false
      },
      "outputs": [],
      "source": [
        "NUM_PEAKS = 3\nSEQUENCE_LENGTH = 200\nsample_count = 3\n\ngenerator = SignalDatasetGenerator(n_samples=sample_count, sequence_length=SEQUENCE_LENGTH)\n\ndataset = generator.generate(\n    signal_type=Kernel.GAUSSIAN,\n    n_peaks=(1, NUM_PEAKS),\n    amplitude=(1, 100),  # Amplitude range\n    position=(0.1, 0.9),  # Peak position range\n    width=(0.03, 0.05),  # Width range\n    noise_std=0.1,  # Add some noise\n    categorical_peak_count=False,\n    compute_region_of_interest=True,\n)\n\ndataset.plot()"
      ]
    }
  ],
  "metadata": {
    "kernelspec": {
      "display_name": "Python 3",
      "language": "python",
      "name": "python3"
    },
    "language_info": {
      "codemirror_mode": {
        "name": "ipython",
        "version": 3
      },
      "file_extension": ".py",
      "mimetype": "text/x-python",
      "name": "python",
      "nbconvert_exporter": "python",
      "pygments_lexer": "ipython3",
      "version": "3.11.13"
    }
  },
  "nbformat": 4,
  "nbformat_minor": 0
}