{
  "cells": [
    {
      "cell_type": "markdown",
      "metadata": {},
      "source": [
        "\n# Non-Maximum Suppression for Gaussian Pulse Detection\n\nThis example demonstrates the use of the NonMaximumSuppression class to detect\nGaussian pulses in a one-dimensional signal. It generates a synthetic dataset\nof Gaussian pulses, applies the non-maximum suppression algorithm, and plots\nthe results.\n"
      ]
    },
    {
      "cell_type": "code",
      "execution_count": null,
      "metadata": {
        "collapsed": false
      },
      "outputs": [],
      "source": [
        "from DeepPeak.algorithms import NonMaximumSuppression\nfrom DeepPeak.signals import SignalDatasetGenerator\nfrom DeepPeak.kernel import Gaussian\n\nNUM_PEAKS = 3\nSEQUENCE_LENGTH = 400\n\ngenerator = SignalDatasetGenerator(n_samples=6, sequence_length=SEQUENCE_LENGTH)\n\nkernel = Gaussian(\n    amplitude=(10, 300),  # Amplitude range\n    position=(0.3, 0.7),  # Peak position range\n    width=0.02,\n)\n\ndataset = generator.generate(\n    kernel=kernel,\n    n_peaks=(3, 3),\n    noise_std=0,  # Add some noise\n    categorical_peak_count=False,\n)\nprint(dataset)\n\ndataset.plot()"
      ]
    },
    {
      "cell_type": "markdown",
      "metadata": {},
      "source": [
        "Configure and run the detector\n\n"
      ]
    },
    {
      "cell_type": "code",
      "execution_count": null,
      "metadata": {
        "collapsed": false
      },
      "outputs": [],
      "source": [
        "peak_locator = NonMaximumSuppression(\n    gaussian_sigma=kernel.width,\n    threshold=\"auto\",\n    maximum_number_of_pulses=5,\n    kernel_truncation_radius_in_sigmas=5,\n)\n\n\nresult = peak_locator.run(time_samples=dataset.x_values, signal=dataset.signals[0])\n\nbatch = peak_locator.run_batch(time_samples=dataset.x_values, signal=dataset.signals)"
      ]
    },
    {
      "cell_type": "markdown",
      "metadata": {},
      "source": [
        "Plot the results\n\n"
      ]
    },
    {
      "cell_type": "code",
      "execution_count": null,
      "metadata": {
        "collapsed": false
      },
      "outputs": [],
      "source": [
        "batch.plot_histogram_counts()"
      ]
    },
    {
      "cell_type": "markdown",
      "metadata": {},
      "source": [
        "Plot the results\n\n"
      ]
    },
    {
      "cell_type": "code",
      "execution_count": null,
      "metadata": {
        "collapsed": false
      },
      "outputs": [],
      "source": [
        "batch.plot(ncols=3, max_plots=6, true_position=dataset.positions, show_kernel=True)"
      ]
    }
  ],
  "metadata": {
    "kernelspec": {
      "display_name": "Python 3",
      "language": "python",
      "name": "python3"
    },
    "language_info": {
      "codemirror_mode": {
        "name": "ipython",
        "version": 3
      },
      "file_extension": ".py",
      "mimetype": "text/x-python",
      "name": "python",
      "nbconvert_exporter": "python",
      "pygments_lexer": "ipython3",
      "version": "3.11.13"
    }
  },
  "nbformat": 4,
  "nbformat_minor": 0
}