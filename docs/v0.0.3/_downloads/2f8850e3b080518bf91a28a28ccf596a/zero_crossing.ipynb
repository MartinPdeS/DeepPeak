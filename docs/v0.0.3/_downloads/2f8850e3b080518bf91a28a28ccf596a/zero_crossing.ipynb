{
  "cells": [
    {
      "cell_type": "markdown",
      "metadata": {},
      "source": [
        "\n# Zero Crossing Peak Detection Example\n\nThis example demonstrates the use of the ZeroCrossing class to detect\nzero-crossing points in a one-dimensional signal. It generates a synthetic dataset\nof Gaussian pulses, applies the zero-crossing detection algorithm, and plots\nthe results.\n"
      ]
    },
    {
      "cell_type": "code",
      "execution_count": null,
      "metadata": {
        "collapsed": false
      },
      "outputs": [],
      "source": [
        "from DeepPeak.algorithms import ZeroCrossing\nfrom DeepPeak.signals import Kernel, SignalDatasetGenerator\n\nNUM_PEAKS = 3\nSEQUENCE_LENGTH = 400\n\ngaussian_width = 0.02\n\ngenerator = SignalDatasetGenerator(n_samples=6, sequence_length=SEQUENCE_LENGTH)\n\ndataset = generator.generate(\n    signal_type=Kernel.GAUSSIAN,\n    n_peaks=(3, 3),\n    amplitude=(10, 300),  # Amplitude range\n    position=(0.3, 0.7),  # Peak position range\n    width=gaussian_width,  # Width range\n    noise_std=2,  # Add some noise\n    categorical_peak_count=False,\n)\nprint(dataset)\n\ndataset.plot()"
      ]
    },
    {
      "cell_type": "markdown",
      "metadata": {},
      "source": [
        "Configure and run the detector\n\n"
      ]
    },
    {
      "cell_type": "code",
      "execution_count": null,
      "metadata": {
        "collapsed": false
      },
      "outputs": [],
      "source": [
        "peak_locator = ZeroCrossing(\n    gaussian_sigma=0.005,\n    threshold=\"auto\",\n    threshold_k=3.0,\n)\n\nbatch = peak_locator.run_batch(time_samples=dataset.x_values, signal=dataset.signals)"
      ]
    },
    {
      "cell_type": "markdown",
      "metadata": {},
      "source": [
        "Plot the results\nbatch.plot_histogram_counts()\n\n"
      ]
    },
    {
      "cell_type": "markdown",
      "metadata": {},
      "source": [
        "Plot the results\n\n"
      ]
    },
    {
      "cell_type": "code",
      "execution_count": null,
      "metadata": {
        "collapsed": false
      },
      "outputs": [],
      "source": [
        "batch.plot(\n    ncols=3,\n    max_plots=6,\n    # ground_truth=dataset.positions\n)"
      ]
    }
  ],
  "metadata": {
    "kernelspec": {
      "display_name": "Python 3",
      "language": "python",
      "name": "python3"
    },
    "language_info": {
      "codemirror_mode": {
        "name": "ipython",
        "version": 3
      },
      "file_extension": ".py",
      "mimetype": "text/x-python",
      "name": "python",
      "nbconvert_exporter": "python",
      "pygments_lexer": "ipython3",
      "version": "3.11.13"
    }
  },
  "nbformat": 4,
  "nbformat_minor": 0
}