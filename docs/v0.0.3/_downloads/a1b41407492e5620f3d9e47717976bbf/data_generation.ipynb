{
  "cells": [
    {
      "cell_type": "markdown",
      "metadata": {},
      "source": [
        "\n# Generating and Visualizing Signal Data\n\nThis example demonstrates how to:\n  1. Generate synthetic signals with up to 3 Gaussian pulses.\n  2. Compute a Region of Interest (ROI) mask based on pulse positions.\n  3. Visualize signals with peak positions, amplitudes, and the ROI mask.\n"
      ]
    },
    {
      "cell_type": "markdown",
      "metadata": {},
      "source": [
        "## Imports\n\n"
      ]
    },
    {
      "cell_type": "code",
      "execution_count": null,
      "metadata": {
        "collapsed": false
      },
      "outputs": [],
      "source": [
        "from DeepPeak.signals import SignalDatasetGenerator\nfrom DeepPeak import kernel"
      ]
    },
    {
      "cell_type": "markdown",
      "metadata": {},
      "source": [
        "## Generate Synthetic Signal Dataset\n\nWe generate a dataset with `NUM_PEAKS` Gaussian pulses per signal.\nThe peak amplitudes, positions, and widths are randomly chosen within\nspecified ranges.\n\n"
      ]
    },
    {
      "cell_type": "code",
      "execution_count": null,
      "metadata": {
        "collapsed": false
      },
      "outputs": [],
      "source": [
        "NUM_PEAKS = 3\nSEQUENCE_LENGTH = 200\nsample_count = 12\n\ngenerator = SignalDatasetGenerator(n_samples=sample_count, sequence_length=SEQUENCE_LENGTH)\n\nkernel = kernel.Lorentzian(\n    amplitude=(10, 300),  # Amplitude range\n    position=(0.3, 0.7),  # Peak position range\n    width=0.02,\n)\n\ndataset = generator.generate(\n    kernel=kernel,\n    n_peaks=(3, 3),\n    noise_std=0,  # Add some noise\n    categorical_peak_count=False,\n)\n\ndataset.plot(number_of_columns=3, number_of_samples=9)"
      ]
    }
  ],
  "metadata": {
    "kernelspec": {
      "display_name": "Python 3",
      "language": "python",
      "name": "python3"
    },
    "language_info": {
      "codemirror_mode": {
        "name": "ipython",
        "version": 3
      },
      "file_extension": ".py",
      "mimetype": "text/x-python",
      "name": "python",
      "nbconvert_exporter": "python",
      "pygments_lexer": "ipython3",
      "version": "3.11.13"
    }
  },
  "nbformat": 4,
  "nbformat_minor": 0
}