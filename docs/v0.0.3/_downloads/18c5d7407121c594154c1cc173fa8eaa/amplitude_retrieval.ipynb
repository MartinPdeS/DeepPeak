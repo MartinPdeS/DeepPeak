{
  "cells": [
    {
      "cell_type": "markdown",
      "metadata": {},
      "source": [
        "\n# Non-Maximum Suppression for Gaussian Pulse Detection\n\nThis example demonstrates the use of the NonMaximumSuppression class to detect\nGaussian pulses in a one-dimensional signal. It generates a synthetic dataset\nof Gaussian pulses, applies the non-maximum suppression algorithm, and plots\nthe results.\n"
      ]
    },
    {
      "cell_type": "code",
      "execution_count": null,
      "metadata": {
        "collapsed": false
      },
      "outputs": [],
      "source": [
        "from DeepPeak.algorithms import NonMaximumSuppression\nfrom DeepPeak.algorithms.amplitude import ClosedFormSolver\nfrom DeepPeak.signals import Kernel, SignalDatasetGenerator\n\nNUM_PEAKS = 3\nSEQUENCE_LENGTH = 400\n\ngaussian_width = 0.03\n\ngenerator = SignalDatasetGenerator(n_samples=1, sequence_length=SEQUENCE_LENGTH)\n\ndataset = generator.generate(\n    signal_type=Kernel.GAUSSIAN,\n    n_peaks=2,\n    amplitude=(50, 100),  # Amplitude range\n    position=(0.3, 0.6),  # Peak position range\n    width=gaussian_width,  # Width range\n    noise_std=0.3,  # Add some noise\n    categorical_peak_count=False,\n)\n\ndataset.plot()"
      ]
    },
    {
      "cell_type": "markdown",
      "metadata": {},
      "source": [
        "Configure and run the detector\n\n"
      ]
    },
    {
      "cell_type": "code",
      "execution_count": null,
      "metadata": {
        "collapsed": false
      },
      "outputs": [],
      "source": [
        "peak_locator = NonMaximumSuppression(\n    gaussian_sigma=0.003,\n    threshold=\"auto\",\n    maximum_number_of_pulses=3,\n    kernel_truncation_radius_in_sigmas=3,\n)\n\npeak_locator.run(time_samples=dataset.x_values, signal=dataset.signals.squeeze())\n\n\npeak_amplitudes = peak_locator.results[\"peak_amplitude\"]\npeak_centers = peak_locator.results[\"peak_times\"]\n\n\nsolver = ClosedFormSolver(sigma=dataset.widths.mean().squeeze() / 1.5)\n\nresult = solver.run(centers=peak_centers, matched_responses=peak_locator.results[\"peak_amplitude\"])\n\n\nprint(\n    f\"\"\"\n    True Centers:\n    {dataset.positions}\n    Measured Centers:\n    {peak_locator.results['peak_times']}\n    True Amplitudes:\n    {dataset.amplitudes}\n    Solved Amplitudes:\n    {result}\\n\n    \"\"\"\n)\n\nsolver.plot(true_amplitudes=dataset.amplitudes.squeeze())"
      ]
    }
  ],
  "metadata": {
    "kernelspec": {
      "display_name": "Python 3",
      "language": "python",
      "name": "python3"
    },
    "language_info": {
      "codemirror_mode": {
        "name": "ipython",
        "version": 3
      },
      "file_extension": ".py",
      "mimetype": "text/x-python",
      "name": "python",
      "nbconvert_exporter": "python",
      "pygments_lexer": "ipython3",
      "version": "3.11.13"
    }
  },
  "nbformat": 4,
  "nbformat_minor": 0
}