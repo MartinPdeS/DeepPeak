{
  "cells": [
    {
      "cell_type": "markdown",
      "metadata": {},
      "source": [
        "\n# Non-Maximum Suppression for Gaussian Pulse Detection\n\nThis example demonstrates the use of the NonMaximumSuppression class to detect\nGaussian pulses in a one-dimensional signal. It generates a synthetic dataset\nof Gaussian pulses, applies the non-maximum suppression algorithm, and plots\nthe results.\n"
      ]
    },
    {
      "cell_type": "code",
      "execution_count": null,
      "metadata": {
        "collapsed": false
      },
      "outputs": [],
      "source": [
        "from DeepPeak.algorithms import NonMaximumSuppression\nfrom DeepPeak.algorithms import ClosedFormSolver\nfrom DeepPeak.signals import Kernel, SignalDatasetGenerator\n\nNUM_PEAKS = 4\nSEQUENCE_LENGTH = 400\nNSAMPLES = 4\ngaussian_width = 0.03\n\ngenerator = SignalDatasetGenerator(n_samples=NSAMPLES, sequence_length=SEQUENCE_LENGTH)\n\ndataset = generator.generate(\n    signal_type=Kernel.GAUSSIAN,\n    n_peaks=NUM_PEAKS,\n    amplitude=(50, 100),  # Amplitude range\n    position=(0.1, 0.9),  # Peak position range\n    width=gaussian_width,  # Width range\n    noise_std=0.3,  # Add some noise\n    categorical_peak_count=False,\n)\n\ndataset.plot()"
      ]
    },
    {
      "cell_type": "markdown",
      "metadata": {},
      "source": [
        "Configure and run the detector\n\n"
      ]
    },
    {
      "cell_type": "code",
      "execution_count": null,
      "metadata": {
        "collapsed": false
      },
      "outputs": [],
      "source": [
        "peak_locator = NonMaximumSuppression(\n    gaussian_sigma=0.003,\n    threshold=\"auto\",\n    maximum_number_of_pulses=NUM_PEAKS,\n    kernel_truncation_radius_in_sigmas=3,\n)\n\nbatched_peak_detector = peak_locator.run_batch(time_samples=dataset.x_values, signal=dataset.signals)\n\nbatched_peak_detector.plot()"
      ]
    },
    {
      "cell_type": "markdown",
      "metadata": {},
      "source": [
        "Solve for amplitudes\n\n"
      ]
    },
    {
      "cell_type": "code",
      "execution_count": null,
      "metadata": {
        "collapsed": false
      },
      "outputs": [],
      "source": [
        "solver = ClosedFormSolver(sigma=dataset.widths.mean().squeeze())\n\nresult = solver.run_batch(centers=batched_peak_detector.peak_times, center_samples=batched_peak_detector.peak_amplitude_raw)\n\nresult.compare_plot(true_amplitudes=dataset.amplitudes)"
      ]
    }
  ],
  "metadata": {
    "kernelspec": {
      "display_name": "Python 3",
      "language": "python",
      "name": "python3"
    },
    "language_info": {
      "codemirror_mode": {
        "name": "ipython",
        "version": 3
      },
      "file_extension": ".py",
      "mimetype": "text/x-python",
      "name": "python",
      "nbconvert_exporter": "python",
      "pygments_lexer": "ipython3",
      "version": "3.11.13"
    }
  },
  "nbformat": 4,
  "nbformat_minor": 0
}